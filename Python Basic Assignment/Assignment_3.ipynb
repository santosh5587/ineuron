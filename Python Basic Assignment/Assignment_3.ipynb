{
 "cells": [
  {
   "cell_type": "markdown",
   "id": "1a1a137f",
   "metadata": {},
   "source": [
    "#### 1. Why are functions advantageous to have in your programs?"
   ]
  },
  {
   "cell_type": "markdown",
   "id": "58cbef99",
   "metadata": {},
   "source": [
    "It enables re-use of frequently used code and can save lot of time in script execution if used effectively. It will also make the code more modular and easy to maintain."
   ]
  },
  {
   "cell_type": "markdown",
   "id": "081cc040",
   "metadata": {},
   "source": [
    "#### 2. When does the code in a function run: when it's specified or when it's called?"
   ]
  },
  {
   "cell_type": "markdown",
   "id": "bd43f7cb",
   "metadata": {},
   "source": [
    "The code in a function is run when its called which is usually termed as function call. When that happens, program execution control is handed over to the function code."
   ]
  },
  {
   "cell_type": "markdown",
   "id": "d877bc0f",
   "metadata": {},
   "source": [
    "#### 3.  What statement creates a function?"
   ]
  },
  {
   "cell_type": "markdown",
   "id": "166172fb",
   "metadata": {},
   "source": [
    "def <function_name>(parameters):\n",
    "    statement 1\n",
    "    statement n"
   ]
  },
  {
   "cell_type": "markdown",
   "id": "bfcad849",
   "metadata": {},
   "source": [
    "#### 4. What is the difference between a function and a function call?"
   ]
  },
  {
   "cell_type": "markdown",
   "id": "c6fb2da6",
   "metadata": {},
   "source": [
    "Function contains the statements to be executed to achieve a specific purpose. function call is the transfer of program execution to the function to trigger the execution of statements in the function."
   ]
  },
  {
   "cell_type": "markdown",
   "id": "1334b09e",
   "metadata": {},
   "source": [
    "#### 5. How many global scopes are there in a Python program? How many local scopes?"
   ]
  },
  {
   "cell_type": "markdown",
   "id": "3a467edb",
   "metadata": {},
   "source": [
    "global and builtin are global scopes. In general, there is single local scope and local scopes are created as per the user defined functions and statements. "
   ]
  },
  {
   "cell_type": "markdown",
   "id": "cc3bcad2",
   "metadata": {},
   "source": [
    "#### 6. What happens to variables in a local scope when the function call returns?"
   ]
  },
  {
   "cell_type": "markdown",
   "id": "ab84af6b",
   "metadata": {},
   "source": [
    "variables in local scope are destroyed when the function call is returned."
   ]
  },
  {
   "cell_type": "markdown",
   "id": "bab0bdac",
   "metadata": {},
   "source": [
    "#### 7.What is the concept of a return value? Is it possible to have a return value in an expression?"
   ]
  },
  {
   "cell_type": "markdown",
   "id": "ec2fc5c3",
   "metadata": {},
   "source": [
    "Return value is the value returned after function is executed (return value is optional) or an expression has been evaluated. Expressions can also return value based on the variables that is acted upon by them."
   ]
  },
  {
   "cell_type": "markdown",
   "id": "d4589e8e",
   "metadata": {},
   "source": [
    "#### 8. If a function does not have a return statement, what is the return value of a call to that function?"
   ]
  },
  {
   "cell_type": "markdown",
   "id": "66309766",
   "metadata": {},
   "source": [
    "Default return value is None and is returned by the functions that doesnt have any explicit return statements."
   ]
  },
  {
   "cell_type": "markdown",
   "id": "c9a86464",
   "metadata": {},
   "source": [
    "#### 9. How do you make a function variable refer to the global variable?"
   ]
  },
  {
   "cell_type": "markdown",
   "id": "7863b947",
   "metadata": {},
   "source": [
    "By defining the variable as global.\n",
    "ex: global <variable_name>"
   ]
  },
  {
   "cell_type": "markdown",
   "id": "371ac6c0",
   "metadata": {},
   "source": [
    "#### 10. What is the data type of None?"
   ]
  },
  {
   "cell_type": "markdown",
   "id": "5bd4fa48",
   "metadata": {},
   "source": [
    "Nonetype"
   ]
  },
  {
   "cell_type": "markdown",
   "id": "840dce87",
   "metadata": {},
   "source": [
    "#### 11. What does the sentence import areallyourpetsnamederic do?"
   ]
  },
  {
   "cell_type": "markdown",
   "id": "84d074c5",
   "metadata": {},
   "source": [
    "If a module with that name is defined, it will import that module into the current script. if there is no such module defined, then import statement will throw ModuleNotFoundError"
   ]
  },
  {
   "cell_type": "markdown",
   "id": "3e7a0f39",
   "metadata": {},
   "source": [
    "#### 12. If you had a bacon() feature in a spam module, what would you call it after importing spam?"
   ]
  },
  {
   "cell_type": "markdown",
   "id": "a409efa7",
   "metadata": {},
   "source": [
    "spam.bacon()"
   ]
  },
  {
   "cell_type": "markdown",
   "id": "5bcee0ff",
   "metadata": {},
   "source": [
    "#### 13. What can you do to save a programme from crashing if it encounters an error?"
   ]
  },
  {
   "cell_type": "markdown",
   "id": "80f87340",
   "metadata": {},
   "source": [
    "Catch the error in a corresponding exception and handle it in the exception block. this is ensure program continuation."
   ]
  },
  {
   "cell_type": "markdown",
   "id": "15a9b7fe",
   "metadata": {},
   "source": [
    "#### 14. What is the purpose of the try clause? What is the purpose of the except clause?"
   ]
  },
  {
   "cell_type": "markdown",
   "id": "9146012a",
   "metadata": {},
   "source": [
    "Try and except blocks are used together to handle expected error scenarios and ensure program continuation on error occurance. Statement executions are put in the try block and if there is any error scenario leading to an exception, it will be caught by the try block and error will be handled as per the user defined statements in the except block."
   ]
  },
  {
   "cell_type": "code",
   "execution_count": null,
   "id": "07e4728b",
   "metadata": {},
   "outputs": [],
   "source": []
  }
 ],
 "metadata": {
  "kernelspec": {
   "display_name": "Python 3 (ipykernel)",
   "language": "python",
   "name": "python3"
  },
  "language_info": {
   "codemirror_mode": {
    "name": "ipython",
    "version": 3
   },
   "file_extension": ".py",
   "mimetype": "text/x-python",
   "name": "python",
   "nbconvert_exporter": "python",
   "pygments_lexer": "ipython3",
   "version": "3.8.1"
  }
 },
 "nbformat": 4,
 "nbformat_minor": 5
}
