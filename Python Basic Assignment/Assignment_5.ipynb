{
 "cells": [
  {
   "cell_type": "markdown",
   "id": "41310e64",
   "metadata": {},
   "source": [
    "#### 1. What does an empty dictionary's code look like?"
   ]
  },
  {
   "cell_type": "code",
   "execution_count": 1,
   "id": "726c8538",
   "metadata": {},
   "outputs": [],
   "source": [
    "x = {}"
   ]
  },
  {
   "cell_type": "markdown",
   "id": "6ac778d1",
   "metadata": {},
   "source": [
    "#### 2. What is the value of a dictionary value with the key 'foo' and the value 42?"
   ]
  },
  {
   "cell_type": "code",
   "execution_count": 2,
   "id": "6d8dfeca",
   "metadata": {},
   "outputs": [],
   "source": [
    "x = {'foo': 42}\n",
    "# value is 42"
   ]
  },
  {
   "cell_type": "markdown",
   "id": "6a5f2e74",
   "metadata": {},
   "source": [
    "#### 3. What is the most significant distinction between a dictionary and a list?"
   ]
  },
  {
   "cell_type": "markdown",
   "id": "b7e3fd3a",
   "metadata": {},
   "source": [
    "Dictionary contains key value pairs which are hashable and doesnt have a fixed order. Lists are not hashable and it has a specific order for retrieving the elements."
   ]
  },
  {
   "cell_type": "markdown",
   "id": "aadd19d3",
   "metadata": {},
   "source": [
    "#### 4. What happens if you try to access spam['foo'] if spam is {'bar': 100}?"
   ]
  },
  {
   "cell_type": "markdown",
   "id": "94468763",
   "metadata": {},
   "source": [
    "We get a KeyError exception"
   ]
  },
  {
   "cell_type": "markdown",
   "id": "340ced52",
   "metadata": {},
   "source": [
    "#### 5. If a dictionary is stored in spam, what is the difference between the expressions 'cat' in spam and 'cat' in spam.keys()?"
   ]
  },
  {
   "cell_type": "markdown",
   "id": "5ec7215f",
   "metadata": {},
   "source": [
    "There is no difference in execution of expressions. By default, python looks for the keys when \"in\" operator is used with a dictionary."
   ]
  },
  {
   "cell_type": "markdown",
   "id": "5b020b89",
   "metadata": {},
   "source": [
    "#### 6. If a dictionary is stored in spam, what is the difference between the expressions 'cat' in spam and 'cat' in spam.values()?"
   ]
  },
  {
   "cell_type": "markdown",
   "id": "b5f81653",
   "metadata": {},
   "source": [
    "'cat' in spam --> looks for presence of a key called 'cat' in the dictionary\n",
    "'cat' in spam.values --> looks for presence of value called 'cat' among all the values in the dictionary"
   ]
  },
  {
   "cell_type": "markdown",
   "id": "ca1772ef",
   "metadata": {},
   "source": [
    "#### 7. What is a shortcut for the following code?\n",
    "#### if 'color' not in spam:\n",
    "####    spam['color'] = 'black'"
   ]
  },
  {
   "cell_type": "code",
   "execution_count": null,
   "id": "f08ddb94",
   "metadata": {},
   "outputs": [],
   "source": [
    "# by default, a dictionary looks for the presence of key. so no explicit check is required \n",
    "# if we just have to assign the value to a non-existing key\n",
    "spam['color'] = 'black'"
   ]
  },
  {
   "cell_type": "markdown",
   "id": "cb76e159",
   "metadata": {},
   "source": [
    "#### 8. How do you \"pretty print\" dictionary values using which module and function?"
   ]
  },
  {
   "cell_type": "code",
   "execution_count": 6,
   "id": "8bc2ac15",
   "metadata": {},
   "outputs": [
    {
     "name": "stdout",
     "output_type": "stream",
     "text": [
      "{\n",
      "    \"foo\": 1,\n",
      "    \"bar\": 2,\n",
      "    \"check\": 3\n",
      "}\n"
     ]
    }
   ],
   "source": [
    "import json\n",
    "spam = {'foo' : 1, 'bar': 2, 'check': 3}\n",
    "print(json.dumps(spam, indent=4))"
   ]
  },
  {
   "cell_type": "code",
   "execution_count": null,
   "id": "e450de0a",
   "metadata": {},
   "outputs": [],
   "source": []
  }
 ],
 "metadata": {
  "kernelspec": {
   "display_name": "Python 3 (ipykernel)",
   "language": "python",
   "name": "python3"
  },
  "language_info": {
   "codemirror_mode": {
    "name": "ipython",
    "version": 3
   },
   "file_extension": ".py",
   "mimetype": "text/x-python",
   "name": "python",
   "nbconvert_exporter": "python",
   "pygments_lexer": "ipython3",
   "version": "3.8.1"
  }
 },
 "nbformat": 4,
 "nbformat_minor": 5
}
