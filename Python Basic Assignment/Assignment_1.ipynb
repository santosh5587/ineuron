{
 "cells": [
  {
   "cell_type": "markdown",
   "id": "0cf5fb58",
   "metadata": {},
   "source": [
    "#### 1. In the below elements which of them are values or an expression? eg:- values can be integer or string and expressions will be mathematical operators.\n",
    "* \n",
    "'hello'\n",
    "-87.8\n",
    "- \n",
    "/ \n",
    "+\n",
    "6 \n"
   ]
  },
  {
   "cell_type": "markdown",
   "id": "19fe1876",
   "metadata": {},
   "source": [
    "[Answer]: Values are 'hello', -87.8, and 6\n",
    "Expressions are *, - , /, +"
   ]
  },
  {
   "cell_type": "markdown",
   "id": "4f9c8cf5",
   "metadata": {},
   "source": [
    "#### 2. What is the difference between string and variable?"
   ]
  },
  {
   "cell_type": "markdown",
   "id": "406e44b2",
   "metadata": {},
   "source": [
    "String is a data tyype in python. \n",
    "Variables are containers that can hold any data type in python."
   ]
  },
  {
   "cell_type": "markdown",
   "id": "96a81fc5",
   "metadata": {},
   "source": [
    "#### 3.Describe three different data types."
   ]
  },
  {
   "cell_type": "markdown",
   "id": "9f949790",
   "metadata": {},
   "source": [
    "integer, float, string and boolean"
   ]
  },
  {
   "cell_type": "markdown",
   "id": "c6916c42",
   "metadata": {},
   "source": [
    "#### 4. What is an expression made up of? What do all expressions do?"
   ]
  },
  {
   "cell_type": "markdown",
   "id": "0ea2258f",
   "metadata": {},
   "source": [
    "Expressions are entities that act on variables. expressions modify the values of the variables."
   ]
  },
  {
   "cell_type": "markdown",
   "id": "6f8bf36f",
   "metadata": {},
   "source": [
    "#### 5. This assignment statements, like spam = 10. What is the difference between an expression and a statement?"
   ]
  },
  {
   "cell_type": "markdown",
   "id": "aed34ef0",
   "metadata": {},
   "source": [
    "expressions act on variables and identifiers. On the other hands, statements perform an action and can have expressions in it."
   ]
  },
  {
   "cell_type": "markdown",
   "id": "62cdb71e",
   "metadata": {},
   "source": [
    "#### 6. After running the following code, what does the variable bacon contain? \n",
    "#### bacon = 22\n",
    "#### bacon + 1"
   ]
  },
  {
   "cell_type": "markdown",
   "id": "a7bb1d2d",
   "metadata": {},
   "source": [
    "bacon contains 22 since after incrementing, values is not assigned back to bacon"
   ]
  },
  {
   "cell_type": "markdown",
   "id": "8d30e73e",
   "metadata": {},
   "source": [
    "#### 7.What should the values of the following two terms be?\n",
    "#### 'spam' + 'spamspam'\n",
    "#### 'spam' * 3\n"
   ]
  },
  {
   "cell_type": "markdown",
   "id": "722e6fd3",
   "metadata": {},
   "source": [
    "Both the above expressions evaluate to 'spamspamspam'"
   ]
  },
  {
   "cell_type": "markdown",
   "id": "53ba5790",
   "metadata": {},
   "source": [
    "#### 8. Why is eggs a valid variable name while 100 is invalid?"
   ]
  },
  {
   "cell_type": "markdown",
   "id": "ac63bba3",
   "metadata": {},
   "source": [
    "Any integer or float value cannot be used as a variable name in python."
   ]
  },
  {
   "cell_type": "markdown",
   "id": "31c7c289",
   "metadata": {},
   "source": [
    "#### 9. What three functions can be used to get the integer, floating-point number, or string version of a value?"
   ]
  },
  {
   "cell_type": "markdown",
   "id": "a97537f8",
   "metadata": {},
   "source": [
    "int(), float() and str()"
   ]
  },
  {
   "cell_type": "markdown",
   "id": "3bbc12e6",
   "metadata": {},
   "source": [
    "#### 10. Why does this expression cause an error? How can you fix it?\n",
    "#### 'I have eaten ' + 99 + ' burritos.'"
   ]
  },
  {
   "cell_type": "markdown",
   "id": "77decb47",
   "metadata": {},
   "source": [
    "An integer value cannot be concatenated with a string value. so the above statement throws error. \n",
    "To correct it, we have to typecast the integer value to string as given below:\n",
    "'I have eaten' + str(99) + 'burritos.'"
   ]
  },
  {
   "cell_type": "code",
   "execution_count": null,
   "id": "2d47c74e",
   "metadata": {},
   "outputs": [],
   "source": []
  }
 ],
 "metadata": {
  "kernelspec": {
   "display_name": "Python 3 (ipykernel)",
   "language": "python",
   "name": "python3"
  },
  "language_info": {
   "codemirror_mode": {
    "name": "ipython",
    "version": 3
   },
   "file_extension": ".py",
   "mimetype": "text/x-python",
   "name": "python",
   "nbconvert_exporter": "python",
   "pygments_lexer": "ipython3",
   "version": "3.8.1"
  }
 },
 "nbformat": 4,
 "nbformat_minor": 5
}
