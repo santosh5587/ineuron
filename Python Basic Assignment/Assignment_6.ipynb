{
 "cells": [
  {
   "cell_type": "markdown",
   "id": "96c388f0",
   "metadata": {},
   "source": [
    "#### 1.  What are escape characters, and how do you use them?"
   ]
  },
  {
   "cell_type": "markdown",
   "id": "8528823c",
   "metadata": {},
   "source": [
    "An escape sequence character is a backslash '/' followed by some special characters that we want to use in the code which would otherwise have a special meaning in python and would throw an error if used without using escape sequencing."
   ]
  },
  {
   "cell_type": "markdown",
   "id": "c851ea30",
   "metadata": {},
   "source": [
    "#### 2. What do the escape characters n and t stand for?"
   ]
  },
  {
   "cell_type": "markdown",
   "id": "46e8d1bc",
   "metadata": {},
   "source": [
    "\\n stands for newline character and \\t stands for tab"
   ]
  },
  {
   "cell_type": "markdown",
   "id": "885bf881",
   "metadata": {},
   "source": [
    "#### 3. What is the way to include backslash characters in a string?"
   ]
  },
  {
   "cell_type": "markdown",
   "id": "7ff18e83",
   "metadata": {},
   "source": [
    "escape it with another backslash character like this \"\\\\\""
   ]
  },
  {
   "cell_type": "markdown",
   "id": "c7a6451b",
   "metadata": {},
   "source": [
    "#### 4. The string \"Howl's Moving Castle\" is a correct value. Why isn't the single quote character in the word Howl's not escaped a problem?"
   ]
  },
  {
   "cell_type": "markdown",
   "id": "7d5343b0",
   "metadata": {},
   "source": [
    "when single quote is used in a string enclosed within double quotes and vice versa, usage of explicit escape sequencing is not necessary"
   ]
  },
  {
   "cell_type": "markdown",
   "id": "c4ff8d6c",
   "metadata": {},
   "source": [
    "#### 5. How do you write a string of newlines if you don't want to use the n character?"
   ]
  },
  {
   "cell_type": "markdown",
   "id": "8d328445",
   "metadata": {},
   "source": [
    "Use strings within triple quoted ' or \""
   ]
  },
  {
   "cell_type": "markdown",
   "id": "1e267708",
   "metadata": {},
   "source": [
    "#### 6. What are the values of given expressions?"
   ]
  },
  {
   "cell_type": "code",
   "execution_count": null,
   "id": "42063cf8",
   "metadata": {},
   "outputs": [],
   "source": [
    "'Hello, world!'[1]\n",
    "'Hello, world!'[0:5]\n",
    "'Hello, world!'[:5]\n",
    "'Hello, world!'[3:]"
   ]
  },
  {
   "cell_type": "markdown",
   "id": "8bcb79e6",
   "metadata": {},
   "source": [
    "e\n",
    "Hello\n",
    "Hello\n",
    "lo, world!"
   ]
  },
  {
   "cell_type": "markdown",
   "id": "581f6f3e",
   "metadata": {},
   "source": [
    "#### 7. What are the values of following expressions?"
   ]
  },
  {
   "cell_type": "code",
   "execution_count": null,
   "id": "086530a2",
   "metadata": {},
   "outputs": [],
   "source": [
    "'Hello'.upper()\n",
    "'Hello'.upper().isupper()\n",
    "'Hello'.upper().lower()"
   ]
  },
  {
   "cell_type": "markdown",
   "id": "860c4c2c",
   "metadata": {},
   "source": [
    "HELLO\n",
    "True\n",
    "hello"
   ]
  },
  {
   "cell_type": "markdown",
   "id": "72653059",
   "metadata": {},
   "source": [
    "#### 8. what are the values of the following expressions?"
   ]
  },
  {
   "cell_type": "code",
   "execution_count": 5,
   "id": "740dccab",
   "metadata": {},
   "outputs": [
    {
     "data": {
      "text/plain": [
       "['Remember,', 'remember,', 'the', 'fifth', 'of', 'July.']"
      ]
     },
     "execution_count": 5,
     "metadata": {},
     "output_type": "execute_result"
    }
   ],
   "source": [
    "'Remember, remember, the fifth of July.'.split()"
   ]
  },
  {
   "cell_type": "code",
   "execution_count": 6,
   "id": "103cddea",
   "metadata": {},
   "outputs": [
    {
     "data": {
      "text/plain": [
       "'There-can-only-one.'"
      ]
     },
     "execution_count": 6,
     "metadata": {},
     "output_type": "execute_result"
    }
   ],
   "source": [
    "'-'.join('There can only one.'.split())"
   ]
  },
  {
   "cell_type": "markdown",
   "id": "333dba67",
   "metadata": {},
   "source": [
    "#### 9. What are the methods for right-justifying, left-justifying, and centering a string?"
   ]
  },
  {
   "cell_type": "markdown",
   "id": "e07ee5d7",
   "metadata": {},
   "source": [
    "rjust(), ljust() and center()"
   ]
  },
  {
   "cell_type": "markdown",
   "id": "44748414",
   "metadata": {},
   "source": [
    "#### 10. What is the best way to remove whitespace characters from the start or end?"
   ]
  },
  {
   "cell_type": "markdown",
   "id": "0e46f62c",
   "metadata": {},
   "source": [
    "use string.strip() function to remove whitespace characters from both ends. or lstrip() and rstrip() function for removing whitespace characters from start and end respectively."
   ]
  },
  {
   "cell_type": "code",
   "execution_count": null,
   "id": "8927e257",
   "metadata": {},
   "outputs": [],
   "source": []
  }
 ],
 "metadata": {
  "kernelspec": {
   "display_name": "Python 3 (ipykernel)",
   "language": "python",
   "name": "python3"
  },
  "language_info": {
   "codemirror_mode": {
    "name": "ipython",
    "version": 3
   },
   "file_extension": ".py",
   "mimetype": "text/x-python",
   "name": "python",
   "nbconvert_exporter": "python",
   "pygments_lexer": "ipython3",
   "version": "3.8.1"
  }
 },
 "nbformat": 4,
 "nbformat_minor": 5
}
