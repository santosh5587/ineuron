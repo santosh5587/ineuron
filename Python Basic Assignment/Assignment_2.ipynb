{
 "cells": [
  {
   "cell_type": "markdown",
   "id": "a1a0b49b",
   "metadata": {},
   "source": [
    "#### 1.What are the two values of the Boolean data type? How do you write them?"
   ]
  },
  {
   "cell_type": "markdown",
   "id": "c6ffecee",
   "metadata": {},
   "source": [
    "True and False are the two values of boolean type. \n",
    "Its values are written as True and False.\n",
    "Ex: x = True\n",
    "    y = False"
   ]
  },
  {
   "cell_type": "markdown",
   "id": "69c14415",
   "metadata": {},
   "source": [
    "#### 2.What are the three different types of Boolean operators?"
   ]
  },
  {
   "cell_type": "markdown",
   "id": "c9aeb510",
   "metadata": {},
   "source": [
    "AND, OR and NOT are the 3 different types of boolean operators"
   ]
  },
  {
   "cell_type": "markdown",
   "id": "c9589b03",
   "metadata": {},
   "source": [
    "#### 3. Make a list of each Boolean operator&#39;s truth tables (i.e. every possible combination of Boolean values for the operator and what it evaluate )."
   ]
  },
  {
   "cell_type": "markdown",
   "id": "7302a5b8",
   "metadata": {},
   "source": [
    "True and True = True\n",
    "True and False = False\n",
    "False and False = False\n",
    "True or False = True\n",
    "True or True = True\n",
    "False or False = False\n",
    "(not) True  = False\n",
    "(not) False = True"
   ]
  },
  {
   "cell_type": "markdown",
   "id": "f35cd35a",
   "metadata": {},
   "source": [
    "#### 4.What are the values of the following expressions?\n",
    "#### (5 > 4) and (3 == 5)\n",
    "#### not (5 > 4)\n",
    "#### (5 > 4) or (3 == 5)\n",
    "#### not ((5 > 4) or (3 == 5))\n",
    "#### (True and True) and (True == False)\n",
    "#### (not False) or (not True)"
   ]
  },
  {
   "cell_type": "markdown",
   "id": "7ea64502",
   "metadata": {},
   "source": [
    "(5 > 4) and (3 == 5) ---------------------------> False\n",
    "not (5 > 4) ------------------------------------> False\n",
    "(5 > 4) or (3 == 5) ----------------------------> True\n",
    "not ((5 > 4) or (3 == 5)) ----------------------> False\n",
    "(True and True) and (True == False) ------------> False\n",
    "(not False) or (not True) ----------------------> True"
   ]
  },
  {
   "cell_type": "markdown",
   "id": "695c4d50",
   "metadata": {},
   "source": [
    "#### 5. What are the six comparison operators?"
   ]
  },
  {
   "cell_type": "markdown",
   "id": "7f401799",
   "metadata": {},
   "source": [
    "<\n",
    ">\n",
    "==\n",
    "!=\n",
    "<=\n",
    ">="
   ]
  },
  {
   "cell_type": "markdown",
   "id": "2c64670f",
   "metadata": {},
   "source": [
    "#### 6.How do you tell the difference between the equal to and assignment operators?Describe a condition and when you would use one."
   ]
  },
  {
   "cell_type": "markdown",
   "id": "af9f8a0a",
   "metadata": {},
   "source": [
    "Assignment operator is '=' and equal to comparison operator is '=='.\n",
    "Assignment operator is used to assign a value to a variable. Comparison operator is used compare values of different entity."
   ]
  },
  {
   "cell_type": "markdown",
   "id": "b5056f3c",
   "metadata": {},
   "source": [
    "#### 7.Identify the three blocks in this code"
   ]
  },
  {
   "cell_type": "markdown",
   "id": "8e6dc6c4",
   "metadata": {},
   "source": [
    "spam = 0\n",
    "if spam == 10:\n",
    "    print('eggs')\n",
    "if spam > 5:\n",
    "    print('bacon')\n",
    "else:\n",
    "    print('ham')\n",
    "\n",
    "print('spam')\n",
    "print('spam')"
   ]
  },
  {
   "cell_type": "markdown",
   "id": "4da296e1",
   "metadata": {},
   "source": [
    "Code will print 'spam' two times since no if loop gets executed as value of spam is 0 and no condition is satisfied."
   ]
  },
  {
   "cell_type": "markdown",
   "id": "d096c6a2",
   "metadata": {},
   "source": [
    "#### 8.Write code that prints Hello if 1 is stored in spam, prints Howdy if 2 is stored in spam, and prints Greetings! if anything else is stored in spam."
   ]
  },
  {
   "cell_type": "code",
   "execution_count": 8,
   "id": "8fd2f9d8",
   "metadata": {},
   "outputs": [
    {
     "name": "stdout",
     "output_type": "stream",
     "text": [
      "Enter the value of spam: 100\n",
      "Greetings!\n"
     ]
    }
   ],
   "source": [
    "spam = int(input('Enter the value of spam: '))\n",
    "if spam == 1:\n",
    "    print('Hello')\n",
    "elif spam == 2:\n",
    "    print('Howdy')\n",
    "else:\n",
    "    print('Greetings!')"
   ]
  },
  {
   "cell_type": "markdown",
   "id": "6fd92957",
   "metadata": {},
   "source": [
    "#### 9. If your programme is stuck in an endless loop, what keys you’ll press?"
   ]
  },
  {
   "cell_type": "markdown",
   "id": "75d01039",
   "metadata": {},
   "source": [
    "Ctrl + C"
   ]
  },
  {
   "cell_type": "markdown",
   "id": "8592f3a7",
   "metadata": {},
   "source": [
    "#### 10. How can you tell the difference between break and continue?"
   ]
  },
  {
   "cell_type": "markdown",
   "id": "a9939578",
   "metadata": {},
   "source": [
    "Break completely interrupts execution and comes out of the loop. Continue stops the further execution of the succeeding statements in the loop and moves to next iteration."
   ]
  },
  {
   "cell_type": "markdown",
   "id": "947b255c",
   "metadata": {},
   "source": [
    "#### 11. In a for loop, what is the difference between range(10), range(0, 10), and range(0, 10, 1)?"
   ]
  },
  {
   "cell_type": "markdown",
   "id": "6d90a3c5",
   "metadata": {},
   "source": [
    "Output of all three statements are same. some values are provided by default if not specified like:\n",
    "a. start value default is 0\n",
    "b. step value default is 1"
   ]
  },
  {
   "cell_type": "markdown",
   "id": "e4512086",
   "metadata": {},
   "source": [
    "#### 12. Write a short program that prints the numbers 1 to 10 using a for loop. Then write an equivalent program that prints the numbers 1 to 10 using a while loop."
   ]
  },
  {
   "cell_type": "code",
   "execution_count": 15,
   "id": "1667d969",
   "metadata": {},
   "outputs": [
    {
     "name": "stdout",
     "output_type": "stream",
     "text": [
      "1\n",
      "2\n",
      "3\n",
      "4\n",
      "5\n",
      "6\n",
      "7\n",
      "8\n",
      "9\n",
      "10\n"
     ]
    }
   ],
   "source": [
    "for x in range(10):\n",
    "    print(x+1)"
   ]
  },
  {
   "cell_type": "code",
   "execution_count": 13,
   "id": "f4b8ded6",
   "metadata": {},
   "outputs": [
    {
     "name": "stdout",
     "output_type": "stream",
     "text": [
      "1\n",
      "2\n",
      "3\n",
      "4\n",
      "5\n",
      "6\n",
      "7\n",
      "8\n",
      "9\n",
      "10\n"
     ]
    }
   ],
   "source": [
    "x = 1\n",
    "while x <= 10:\n",
    "    print(x)\n",
    "    x += 1"
   ]
  },
  {
   "cell_type": "markdown",
   "id": "718ed68e",
   "metadata": {},
   "source": [
    "#### 13. If you had a function named bacon() inside a module named spam, how would you call it after importing spam?"
   ]
  },
  {
   "cell_type": "markdown",
   "id": "d5e6958c",
   "metadata": {},
   "source": [
    "spam.bacon()"
   ]
  }
 ],
 "metadata": {
  "kernelspec": {
   "display_name": "Python 3 (ipykernel)",
   "language": "python",
   "name": "python3"
  },
  "language_info": {
   "codemirror_mode": {
    "name": "ipython",
    "version": 3
   },
   "file_extension": ".py",
   "mimetype": "text/x-python",
   "name": "python",
   "nbconvert_exporter": "python",
   "pygments_lexer": "ipython3",
   "version": "3.8.1"
  }
 },
 "nbformat": 4,
 "nbformat_minor": 5
}
