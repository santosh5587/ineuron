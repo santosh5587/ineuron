{
 "cells": [
  {
   "cell_type": "markdown",
   "id": "f16d6831",
   "metadata": {},
   "source": [
    "#### 1. What exactly is []?"
   ]
  },
  {
   "cell_type": "markdown",
   "id": "a745ec30",
   "metadata": {},
   "source": [
    "it denotes an empty list"
   ]
  },
  {
   "cell_type": "markdown",
   "id": "9ebcda82",
   "metadata": {},
   "source": [
    "#### 2. In a list of values stored in a variable called spam, how would you assign the value 'hello' as the third value? (Assume [2, 4, 6, 8, 10] are in spam.)"
   ]
  },
  {
   "cell_type": "code",
   "execution_count": 5,
   "id": "886ee9a6",
   "metadata": {},
   "outputs": [
    {
     "data": {
      "text/plain": [
       "[2, 4, 'hello', 6, 8, 10]"
      ]
     },
     "execution_count": 5,
     "metadata": {},
     "output_type": "execute_result"
    }
   ],
   "source": [
    "spam = [2, 4, 6, 8, 10]\n",
    "spam.insert(2, 'hello')\n",
    "spam"
   ]
  },
  {
   "cell_type": "code",
   "execution_count": 6,
   "id": "68aa3e36",
   "metadata": {},
   "outputs": [],
   "source": [
    "spam = ['a', 'b', 'c', 'd']"
   ]
  },
  {
   "cell_type": "markdown",
   "id": "73423c6e",
   "metadata": {},
   "source": [
    "#### 3. What is the value of spam[int(int('3' * 2) / 11)]?"
   ]
  },
  {
   "cell_type": "code",
   "execution_count": 11,
   "id": "81b38031",
   "metadata": {},
   "outputs": [
    {
     "data": {
      "text/plain": [
       "'d'"
      ]
     },
     "execution_count": 11,
     "metadata": {},
     "output_type": "execute_result"
    }
   ],
   "source": [
    "spam[int(int('3' *2)/11)]"
   ]
  },
  {
   "cell_type": "markdown",
   "id": "02050104",
   "metadata": {},
   "source": [
    "#### 4. What is the value of spam[-1]?"
   ]
  },
  {
   "cell_type": "code",
   "execution_count": 12,
   "id": "a8f35b53",
   "metadata": {},
   "outputs": [
    {
     "data": {
      "text/plain": [
       "'d'"
      ]
     },
     "execution_count": 12,
     "metadata": {},
     "output_type": "execute_result"
    }
   ],
   "source": [
    "spam[-1]"
   ]
  },
  {
   "cell_type": "markdown",
   "id": "941f8f7c",
   "metadata": {},
   "source": [
    "#### 5. What is the value of spam[:2]?"
   ]
  },
  {
   "cell_type": "code",
   "execution_count": 13,
   "id": "909fbbcc",
   "metadata": {},
   "outputs": [
    {
     "data": {
      "text/plain": [
       "['a', 'b']"
      ]
     },
     "execution_count": 13,
     "metadata": {},
     "output_type": "execute_result"
    }
   ],
   "source": [
    "spam[:2]"
   ]
  },
  {
   "cell_type": "code",
   "execution_count": 15,
   "id": "532bb3e6",
   "metadata": {},
   "outputs": [],
   "source": [
    "bacon = [3.14, 'cat', 11, 'cat', True] "
   ]
  },
  {
   "cell_type": "markdown",
   "id": "52e1499c",
   "metadata": {},
   "source": [
    "#### 6. What is the value of bacon.index('cat')?"
   ]
  },
  {
   "cell_type": "markdown",
   "id": "c6d67026",
   "metadata": {},
   "source": [
    "1"
   ]
  },
  {
   "cell_type": "markdown",
   "id": "bbb631f9",
   "metadata": {},
   "source": [
    "#### 7. How does bacon.append(99) change the look of the list value in bacon?"
   ]
  },
  {
   "cell_type": "markdown",
   "id": "459bf854",
   "metadata": {},
   "source": [
    "[3.14, 'cat', 11, 'cat', True, 99] "
   ]
  },
  {
   "cell_type": "markdown",
   "id": "69ce8d9d",
   "metadata": {},
   "source": [
    "#### 8. How does bacon.remove('cat') change the look of the list in bacon?"
   ]
  },
  {
   "cell_type": "markdown",
   "id": "b78df221",
   "metadata": {},
   "source": [
    " [3.14, 11, 'cat', True, 99]"
   ]
  },
  {
   "cell_type": "markdown",
   "id": "fafcb342",
   "metadata": {},
   "source": [
    "#### 9.What are the list concatenation and list replication operators?"
   ]
  },
  {
   "cell_type": "markdown",
   "id": "dc469f7e",
   "metadata": {},
   "source": [
    "list concatenation operator is '+'. List replication can be done by assignment operator '=' or using <listname>[:]"
   ]
  },
  {
   "cell_type": "markdown",
   "id": "e2eba2ac",
   "metadata": {},
   "source": [
    "#### 10. What is difference between the list methods append() and insert()?"
   ]
  },
  {
   "cell_type": "markdown",
   "id": "7d066206",
   "metadata": {},
   "source": [
    "append() inserts given elements at the end of the list. insert() inserts the given elements at a specified index in the list."
   ]
  },
  {
   "cell_type": "markdown",
   "id": "978a1d9d",
   "metadata": {},
   "source": [
    "#### 11. What are the two methods for removing items from a list?"
   ]
  },
  {
   "cell_type": "code",
   "execution_count": 26,
   "id": "a42068f3",
   "metadata": {},
   "outputs": [],
   "source": [
    "list1 = [1, 2, 3, 4, 5, 6, 7]\n",
    "del list1[1] # first method\n",
    "list1.remove(4) # second method"
   ]
  },
  {
   "cell_type": "markdown",
   "id": "e7213b44",
   "metadata": {},
   "source": [
    "#### 12. Describe how list values and string values are identical."
   ]
  },
  {
   "cell_type": "markdown",
   "id": "f59af00a",
   "metadata": {},
   "source": [
    "Both are iterable objects."
   ]
  },
  {
   "cell_type": "markdown",
   "id": "a338c7c7",
   "metadata": {},
   "source": [
    "#### 13. What's the difference between tuples and lists?"
   ]
  },
  {
   "cell_type": "markdown",
   "id": "7b268d7f",
   "metadata": {},
   "source": [
    "list is a mutable object. so values in a list can be changed whenever required. But tuple is an immutable object. values in a tuple cannot be changed"
   ]
  },
  {
   "cell_type": "markdown",
   "id": "4f15d193",
   "metadata": {},
   "source": [
    "#### 14. How do you type a tuple value that only contains the integer 42?"
   ]
  },
  {
   "cell_type": "code",
   "execution_count": 24,
   "id": "5311e592",
   "metadata": {},
   "outputs": [],
   "source": [
    "x = 42,"
   ]
  },
  {
   "cell_type": "markdown",
   "id": "f341ce6d",
   "metadata": {},
   "source": [
    "#### 15. How do you get a list value's tuple form? How do you get a tuple value's list form?"
   ]
  },
  {
   "cell_type": "code",
   "execution_count": null,
   "id": "3b8a804e",
   "metadata": {},
   "outputs": [],
   "source": [
    "list1 = [1,2,3,4,5]\n",
    "tuple1 = (10, 20, 30, 40, 50)\n",
    "# converting tuple into list and assinging it to list2\n",
    "list2 = list(tuple1)\n",
    "# converting list into tuple and assigning it to tuple2\n",
    "tuple2 = tuple(list1)"
   ]
  },
  {
   "cell_type": "markdown",
   "id": "e1f09ce8",
   "metadata": {},
   "source": [
    "#### 16.Variables that \"contain\" list values are not necessarily lists themselves. Instead, what do they contain?"
   ]
  },
  {
   "cell_type": "markdown",
   "id": "10eac82a",
   "metadata": {},
   "source": [
    "They contain the address of the memory location where the values of the list are stored in a array in the memory."
   ]
  },
  {
   "cell_type": "markdown",
   "id": "c56122db",
   "metadata": {},
   "source": [
    "#### 17. How do you distinguish between copy.copy() and copy.deepcopy()?"
   ]
  },
  {
   "cell_type": "markdown",
   "id": "4ff6df0a",
   "metadata": {},
   "source": [
    "copy.copy() creates the object and copies the references of the values in that object that it is copying. copy.deepcopy() creates a new object and inserts the actual values into the memory rather than reference to the value."
   ]
  },
  {
   "cell_type": "code",
   "execution_count": null,
   "id": "e903a990",
   "metadata": {},
   "outputs": [],
   "source": []
  }
 ],
 "metadata": {
  "kernelspec": {
   "display_name": "Python 3 (ipykernel)",
   "language": "python",
   "name": "python3"
  },
  "language_info": {
   "codemirror_mode": {
    "name": "ipython",
    "version": 3
   },
   "file_extension": ".py",
   "mimetype": "text/x-python",
   "name": "python",
   "nbconvert_exporter": "python",
   "pygments_lexer": "ipython3",
   "version": "3.8.1"
  }
 },
 "nbformat": 4,
 "nbformat_minor": 5
}
